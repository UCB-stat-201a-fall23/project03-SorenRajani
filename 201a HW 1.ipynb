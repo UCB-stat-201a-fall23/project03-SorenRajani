{
 "cells": [
  {
   "cell_type": "markdown",
   "id": "e15e94eb",
   "metadata": {},
   "source": [
    "# Homework\n",
    "Soren Rajani \\\n",
    "Nov 20th"
   ]
  },
  {
   "cell_type": "code",
   "execution_count": 1,
   "id": "f23033a7",
   "metadata": {},
   "outputs": [],
   "source": [
    "import numpy as np\n",
    "import matplotlib.pyplot as plt"
   ]
  },
  {
   "cell_type": "markdown",
   "id": "4bcd9f58",
   "metadata": {},
   "source": [
    "# Question 1"
   ]
  },
  {
   "cell_type": "markdown",
   "id": "9d4bcc03",
   "metadata": {},
   "source": [
    "## 1.a"
   ]
  },
  {
   "cell_type": "markdown",
   "id": "e7165898",
   "metadata": {},
   "source": [
    "We can represent the Markov process as the following matrix $P$"
   ]
  },
  {
   "cell_type": "code",
   "execution_count": 2,
   "id": "82003fe0",
   "metadata": {},
   "outputs": [
    {
     "name": "stdout",
     "output_type": "stream",
     "text": [
      "[[0.2 0.7 0.1]\n",
      " [0.2 0.5 0.3]\n",
      " [0.2 0.4 0.4]]\n"
     ]
    }
   ],
   "source": [
    "P = np.array([[0.2,0.7,0.1],[0.2,0.5,0.3],[0.2,0.4,0.4]])\n",
    "print(P)"
   ]
  },
  {
   "cell_type": "markdown",
   "id": "4dd12b80",
   "metadata": {},
   "source": [
    "## 1.b"
   ]
  },
  {
   "cell_type": "markdown",
   "id": "9da4ca6e",
   "metadata": {},
   "source": [
    "The state $x_0 = 1$ can be represented as the vector (1,0,0), then to get the next state's probabilities we multiply it by the probability matrix $P$"
   ]
  },
  {
   "cell_type": "code",
   "execution_count": 3,
   "id": "e946de77",
   "metadata": {},
   "outputs": [
    {
     "name": "stdout",
     "output_type": "stream",
     "text": [
      "[[0.2 0.7 0.1]]\n"
     ]
    }
   ],
   "source": [
    "x_0 = np.array([[1,0,0]])\n",
    "x_1 = x_0 @ P\n",
    "print(x_1)"
   ]
  },
  {
   "cell_type": "markdown",
   "id": "6de84ece",
   "metadata": {},
   "source": [
    "# Question 2"
   ]
  },
  {
   "cell_type": "markdown",
   "id": "6fc9cced",
   "metadata": {},
   "source": [
    "## 2.a"
   ]
  },
  {
   "cell_type": "markdown",
   "id": "af4dbb3f",
   "metadata": {},
   "source": [
    "To find the solution we can use Numpy to get the eigenvalues of $P.T$"
   ]
  },
  {
   "cell_type": "code",
   "execution_count": 4,
   "id": "d39d5fd2",
   "metadata": {},
   "outputs": [
    {
     "name": "stdout",
     "output_type": "stream",
     "text": [
      "EigResult(eigenvalues=array([ 1.00000000e+00, -1.26987179e-16,  1.00000000e-01]), eigenvectors=array([[ 3.22458464e-01,  2.67261242e-01, -5.72433999e-16],\n",
      "       [ 8.24060518e-01, -8.01783726e-01, -7.07106781e-01],\n",
      "       [ 4.65773337e-01,  5.34522484e-01,  7.07106781e-01]]))\n"
     ]
    }
   ],
   "source": [
    "eig = np.linalg.eig(P.T)\n",
    "print(eig)"
   ]
  },
  {
   "cell_type": "markdown",
   "id": "6e37d2f8",
   "metadata": {},
   "source": [
    "Above we can see that the eignevalue we are interested in, 1, corresponds to the 3rd vector. To get the stationary distribution we take the 3rd column vector and take then normalize it. \\\n",
    "The output I show is the vector, then the vector multiplied the transitiona matrix."
   ]
  },
  {
   "cell_type": "code",
   "execution_count": 5,
   "id": "6530b6fd",
   "metadata": {},
   "outputs": [
    {
     "name": "stdout",
     "output_type": "stream",
     "text": [
      "[0.2        0.51111111 0.28888889]\n",
      "[0.2        0.51111111 0.28888889]\n"
     ]
    }
   ],
   "source": [
    "x_stationary = eig[1][:,0]/np.sum(eig[1][:,0])\n",
    "print(x_stationary)\n",
    "print(x_stationary @ P)"
   ]
  },
  {
   "cell_type": "markdown",
   "id": "efb1b7fb",
   "metadata": {},
   "source": [
    "## 2.b"
   ]
  },
  {
   "cell_type": "markdown",
   "id": "e3d791c9",
   "metadata": {},
   "source": [
    "To get the plot desired, I iterate over applications of the transition matrix $P$ from 1 to 5 (which is enough time for both to converge)."
   ]
  },
  {
   "cell_type": "code",
   "execution_count": 6,
   "id": "0cb0bfe5",
   "metadata": {},
   "outputs": [],
   "source": [
    "m = 5\n",
    "\n",
    "results1 = np.zeros(m)\n",
    "results2 = np.zeros(m)\n",
    "\n",
    "\n",
    "vector1 = np.array([.4,.4,.2])\n",
    "vector2 = np.array([.1,.1,.8])\n",
    "\n",
    "\n",
    "for j in range(0,m):\n",
    "    vector1 = vector1 @ P\n",
    "    vector2 = vector2 @ P\n",
    "    results1[j] = (np.linalg.norm(vector1-x_stationary)) \n",
    "    results2[j] = (np.linalg.norm(vector2-x_stationary)) "
   ]
  },
  {
   "cell_type": "code",
   "execution_count": 7,
   "id": "511c4635",
   "metadata": {},
   "outputs": [
    {
     "data": {
      "image/png": "[encoded data removed]",
      "text/plain": [
       "<Figure size 640x480 with 1 Axes>"
      ]
     },
     "metadata": {},
     "output_type": "display_data"
    }
   ],
   "source": [
    "plt.plot(results1)\n",
    "plt.plot(results2)\n",
    "plt.title('L2 Norm of Initial Distributions over Time')\n",
    "plt.ylabel('L2 Norm')\n",
    "plt.xlabel('Iterations')\n",
    "plt.show()"
   ]
  },
  {
   "cell_type": "markdown",
   "id": "1feb953b",
   "metadata": {},
   "source": [
    "# Question 3"
   ]
  },
  {
   "cell_type": "markdown",
   "id": "79d9dab4",
   "metadata": {},
   "source": [
    "## 3.a"
   ]
  },
  {
   "cell_type": "markdown",
   "id": "a736ddc5",
   "metadata": {},
   "source": [
    "To make 3 an absorbing state, we change its probability to be 1 on the diagonal so it always transitions to itself."
   ]
  },
  {
   "cell_type": "code",
   "execution_count": 8,
   "id": "a6b2614d",
   "metadata": {},
   "outputs": [
    {
     "name": "stdout",
     "output_type": "stream",
     "text": [
      "[[0.2 0.7 0.1]\n",
      " [0.2 0.5 0.3]\n",
      " [0.  0.  1. ]]\n"
     ]
    }
   ],
   "source": [
    "P = np.array([[0.2,0.7,0.1],[0.2,0.5,0.3],[0,0,1]])\n",
    "print(P)"
   ]
  },
  {
   "cell_type": "code",
   "execution_count": 9,
   "id": "7073609a",
   "metadata": {},
   "outputs": [],
   "source": [
    "class MarkovProcess:\n",
    "    def __init__(self, transition_matrix):\n",
    "        self.transition_matrix = transition_matrix\n",
    "        self.num_states = self.transition_matrix.shape[0]\n",
    "        self.current_state = 0\n",
    "    \n",
    "    def set_state(self, state):\n",
    "        self.current_state = state\n",
    "    \n",
    "    def simulate(self, num_steps):\n",
    "        states = [self.current_state]\n",
    "        for _ in range(num_steps):\n",
    "            self.current_state = np.random.choice(\n",
    "                self.num_states, p=self.transition_matrix[self.current_state]\n",
    "            )\n",
    "            states.append(self.current_state)\n",
    "        return states\n",
    "    \n",
    "    def steps_to_reach_state(self, target_state):\n",
    "        steps = 0\n",
    "        while self.current_state != target_state:\n",
    "            self.current_state = np.random.choice(\n",
    "                self.num_states, p=self.transition_matrix[self.current_state]\n",
    "            )\n",
    "            steps += 1\n",
    "        return steps\n"
   ]
  },
  {
   "cell_type": "code",
   "execution_count": 10,
   "id": "f9d2db8e",
   "metadata": {},
   "outputs": [],
   "source": [
    "myProcess = MarkovProcess(P)\n",
    "\n",
    "results0 = np.zeros(500)\n",
    "results1 = np.zeros(500)\n",
    "\n",
    "for i in range(0,500):\n",
    "    myProcess.set_state(0)\n",
    "    results0[i] = myProcess.steps_to_reach_state(2)\n",
    "\n",
    "for i in range(0,500):\n",
    "    myProcess.set_state(1)\n",
    "    results1[i] = myProcess.steps_to_reach_state(2)"
   ]
  },
  {
   "cell_type": "code",
   "execution_count": 11,
   "id": "70298ba0",
   "metadata": {},
   "outputs": [
    {
     "data": {
      "image/png": "[encoded data removed]",
      "text/plain": [
       "<Figure size 640x480 with 1 Axes>"
      ]
     },
     "metadata": {},
     "output_type": "display_data"
    }
   ],
   "source": [
    "plt.hist(results0,density = True, alpha = 0.5)\n",
    "plt.hist(results1,density = True, alpha = 0.5)\n",
    "plt.xlim(1,23)\n",
    "plt.xticks(np.arange(1,24,2))\n",
    "\n",
    "plt.title('Time to Reach State 3')\n",
    "plt.xlabel('Steps')\n",
    "plt.ylabel('Frequency')\n",
    "plt.show()"
   ]
  },
  {
   "cell_type": "markdown",
   "id": "0699ef84",
   "metadata": {},
   "source": [
    "The mean time to converge is "
   ]
  },
  {
   "cell_type": "code",
   "execution_count": 15,
   "id": "cf93eb07",
   "metadata": {},
   "outputs": [
    {
     "name": "stdout",
     "output_type": "stream",
     "text": [
      " The mean time starting at 1 is: 4.662\n",
      " The mean time starting at 2 is: 3.974\n"
     ]
    }
   ],
   "source": [
    "print(f' The mean time starting at 1 is: {np.mean(results0)}')\n",
    "print(f' The mean time starting at 2 is: {np.mean(results1)}')"
   ]
  },
  {
   "cell_type": "markdown",
   "id": "a377ede8",
   "metadata": {},
   "source": [
    "## 3.b"
   ]
  },
  {
   "cell_type": "markdown",
   "id": "d7bc3bca",
   "metadata": {},
   "source": [
    "To get the time by theoretical methods, we can solve the equation:\n",
    "$$ \\mu_i = 1 + \\sum_{j=1}^3p_{ij}\\mu_j$$"
   ]
  },
  {
   "cell_type": "markdown",
   "id": "c620c735",
   "metadata": {},
   "source": [
    "where $\\mu_3 = 0$ since it is an absorbing state."
   ]
  },
  {
   "cell_type": "markdown",
   "id": "0e389258",
   "metadata": {},
   "source": [
    "This can be expanded to the system of equations:\n",
    "$$ \\mu_1 = 1 + 0.2\\mu_1+0.7\\mu_2$$\n",
    "$$ \\mu_2 = 1 + 0.2\\mu_1+0.5\\mu_2$$"
   ]
  },
  {
   "cell_type": "markdown",
   "id": "f79d96e9",
   "metadata": {},
   "source": [
    "subtracting equation 1 from 2 gives us:\n",
    "$$ \\mu_2 - \\mu_1 = -0.2\\mu_2$$\n",
    "$$ 1.2\\mu_2 = \\mu1$$\n"
   ]
  },
  {
   "cell_type": "markdown",
   "id": "94e528a5",
   "metadata": {},
   "source": [
    "substituting that back into equation 1 gives us:\n",
    "$$ 1.2 \\mu_2 = 1 + 0.2(1.2\\mu_2) + 0.7\\mu_2$$\n",
    "$$ \\mu_2 = 1 / 0.26 = 3.846$$"
   ]
  },
  {
   "cell_type": "markdown",
   "id": "d210a6c9",
   "metadata": {},
   "source": [
    "using the initial formula:\n",
    "$$1.2\\mu_2=\\mu_1$$\n",
    "$$\\mu_1 = 4.615 $$"
   ]
  },
  {
   "cell_type": "markdown",
   "id": "f2e7a70d",
   "metadata": {},
   "source": [
    "This is rouhgly consistent with the simulated results."
   ]
  }
 ],
 "metadata": {
  "kernelspec": {
   "display_name": "Python 3 (ipykernel)",
   "language": "python",
   "name": "python3"
  },
  "language_info": {
   "codemirror_mode": {
    "name": "ipython",
    "version": 3
   },
   "file_extension": ".py",
   "mimetype": "text/x-python",
   "name": "python",
   "nbconvert_exporter": "python",
   "pygments_lexer": "ipython3",
   "version": "3.9.15"
  }
 },
 "nbformat": 4,
 "nbformat_minor": 5
}
